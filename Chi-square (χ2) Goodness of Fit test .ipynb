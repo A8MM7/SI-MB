{
 "cells": [
  {
   "cell_type": "code",
   "execution_count": 3,
   "metadata": {},
   "outputs": [],
   "source": [
    "from bioinfokit.analys import stat"
   ]
  },
  {
   "cell_type": "code",
   "execution_count": 4,
   "metadata": {},
   "outputs": [],
   "source": [
    "import pandas as pd"
   ]
  },
  {
   "cell_type": "code",
   "execution_count": 25,
   "metadata": {},
   "outputs": [],
   "source": [
    "import numpy as np"
   ]
  },
  {
   "cell_type": "code",
   "execution_count": 18,
   "metadata": {},
   "outputs": [],
   "source": [
    "import os"
   ]
  },
  {
   "cell_type": "code",
   "execution_count": 36,
   "metadata": {},
   "outputs": [],
   "source": [
    "df = pd.read_excel('questionnaire - AnswersV1.xlsx')"
   ]
  },
  {
   "cell_type": "code",
   "execution_count": 37,
   "metadata": {},
   "outputs": [
    {
     "data": {
      "text/plain": [
       "array(['UID', 'How do you get to know about it?', 'What is your gener?',\n",
       "       'How old are you?', 'What is your district?',\n",
       "       'What is your profession?', 'What is your monthly income?',\n",
       "       'What is your highest education level?',\n",
       "       'What is your ethnic group?', 'What is your marital status',\n",
       "       'My phone does not support it',\n",
       "       \"I don't feel safe to do transactions\",\n",
       "       'Going to the branch is more convenient',\n",
       "       'I prefer internet banking', \"I don't understand the app\",\n",
       "       'App is slow', 'Mobile banking is for high end customers',\n",
       "       \"What if the internet connection is gone when I'm doing a transaction\",\n",
       "       'I’m not good with new technologies',\n",
       "       'Bank will perform the transaction incorrectly',\n",
       "       'I’m not comfirtable sharing my account details via a mobile app',\n",
       "       'If my phone is stolen somebody can get my bank details'],\n",
       "      dtype=object)"
      ]
     },
     "execution_count": 37,
     "metadata": {},
     "output_type": "execute_result"
    }
   ],
   "source": [
    "df.columns.values"
   ]
  },
  {
   "cell_type": "code",
   "execution_count": 20,
   "metadata": {},
   "outputs": [
    {
     "data": {
      "text/html": [
       "<div>\n",
       "<style scoped>\n",
       "    .dataframe tbody tr th:only-of-type {\n",
       "        vertical-align: middle;\n",
       "    }\n",
       "\n",
       "    .dataframe tbody tr th {\n",
       "        vertical-align: top;\n",
       "    }\n",
       "\n",
       "    .dataframe thead th {\n",
       "        text-align: right;\n",
       "    }\n",
       "</style>\n",
       "<table border=\"1\" class=\"dataframe\">\n",
       "  <thead>\n",
       "    <tr style=\"text-align: right;\">\n",
       "      <th></th>\n",
       "      <th>UID</th>\n",
       "      <th>How do you get to know about it?</th>\n",
       "      <th>What is your gener?</th>\n",
       "      <th>How old are you?</th>\n",
       "      <th>What is your district?</th>\n",
       "      <th>What is your profession?</th>\n",
       "      <th>What is your monthly income?</th>\n",
       "      <th>What is your highest education level?</th>\n",
       "      <th>What is your ethnic group?</th>\n",
       "      <th>What is your marital status</th>\n",
       "      <th>...</th>\n",
       "      <th>Going to the branch is more convenient</th>\n",
       "      <th>I prefer internet banking</th>\n",
       "      <th>I don't understand the app</th>\n",
       "      <th>App is slow</th>\n",
       "      <th>Mobile banking is for high end customers</th>\n",
       "      <th>What if the internet connection is gone when I'm doing a transaction</th>\n",
       "      <th>I’m not good with new technologies</th>\n",
       "      <th>Bank will perform the transaction incorrectly</th>\n",
       "      <th>I’m not comfirtable sharing my account details via a mobile app</th>\n",
       "      <th>If my phone is stolen somebody can get my bank details</th>\n",
       "    </tr>\n",
       "  </thead>\n",
       "  <tbody>\n",
       "    <tr>\n",
       "      <th>0</th>\n",
       "      <td>0</td>\n",
       "      <td>Social Media</td>\n",
       "      <td>Female</td>\n",
       "      <td>31-40</td>\n",
       "      <td>Kandy</td>\n",
       "      <td>Private Sector</td>\n",
       "      <td>70k-100k</td>\n",
       "      <td>Graduate</td>\n",
       "      <td>Sinhala</td>\n",
       "      <td>Married</td>\n",
       "      <td>...</td>\n",
       "      <td>3</td>\n",
       "      <td>1</td>\n",
       "      <td>4</td>\n",
       "      <td>3</td>\n",
       "      <td>Disagree</td>\n",
       "      <td>Agree</td>\n",
       "      <td>Agree</td>\n",
       "      <td>Neutral</td>\n",
       "      <td>Strongly Agree</td>\n",
       "      <td>Agree</td>\n",
       "    </tr>\n",
       "    <tr>\n",
       "      <th>1</th>\n",
       "      <td>1</td>\n",
       "      <td>Our website</td>\n",
       "      <td>Male</td>\n",
       "      <td>31-40</td>\n",
       "      <td>Kalutara</td>\n",
       "      <td>Public Sector</td>\n",
       "      <td>70k-100k</td>\n",
       "      <td>Graduate</td>\n",
       "      <td>Sinhala</td>\n",
       "      <td>Married</td>\n",
       "      <td>...</td>\n",
       "      <td>5</td>\n",
       "      <td>2</td>\n",
       "      <td>3</td>\n",
       "      <td>3</td>\n",
       "      <td>Neutral</td>\n",
       "      <td>Strongly Agree</td>\n",
       "      <td>Neutral</td>\n",
       "      <td>Neutral</td>\n",
       "      <td>Neutral</td>\n",
       "      <td>Strongly Agree</td>\n",
       "    </tr>\n",
       "    <tr>\n",
       "      <th>2</th>\n",
       "      <td>2</td>\n",
       "      <td>Social Media</td>\n",
       "      <td>Male</td>\n",
       "      <td>&gt;50</td>\n",
       "      <td>Colombo</td>\n",
       "      <td>Private Sector</td>\n",
       "      <td>50k-70k</td>\n",
       "      <td>A/L</td>\n",
       "      <td>Sinhala</td>\n",
       "      <td>Married</td>\n",
       "      <td>...</td>\n",
       "      <td>1</td>\n",
       "      <td>2</td>\n",
       "      <td>4</td>\n",
       "      <td>2</td>\n",
       "      <td>Disagree</td>\n",
       "      <td>Agree</td>\n",
       "      <td>Agree</td>\n",
       "      <td>Strongly Agree</td>\n",
       "      <td>Agree</td>\n",
       "      <td>Neutral</td>\n",
       "    </tr>\n",
       "    <tr>\n",
       "      <th>3</th>\n",
       "      <td>3</td>\n",
       "      <td>Our website</td>\n",
       "      <td>Female</td>\n",
       "      <td>19-30</td>\n",
       "      <td>Colombo</td>\n",
       "      <td>Private Sector</td>\n",
       "      <td>100k-150k</td>\n",
       "      <td>Graduate</td>\n",
       "      <td>Tamil</td>\n",
       "      <td>Married</td>\n",
       "      <td>...</td>\n",
       "      <td>3</td>\n",
       "      <td>1</td>\n",
       "      <td>2</td>\n",
       "      <td>3</td>\n",
       "      <td>Disagree</td>\n",
       "      <td>Strongly Agree</td>\n",
       "      <td>Agree</td>\n",
       "      <td>Neutral</td>\n",
       "      <td>Strongly Agree</td>\n",
       "      <td>Neutral</td>\n",
       "    </tr>\n",
       "    <tr>\n",
       "      <th>4</th>\n",
       "      <td>4</td>\n",
       "      <td>Social Media</td>\n",
       "      <td>Male</td>\n",
       "      <td>19-30</td>\n",
       "      <td>Colombo</td>\n",
       "      <td>Public Sector</td>\n",
       "      <td>50k-70k</td>\n",
       "      <td>Graduate</td>\n",
       "      <td>Sinhala</td>\n",
       "      <td>Married</td>\n",
       "      <td>...</td>\n",
       "      <td>3</td>\n",
       "      <td>1</td>\n",
       "      <td>4</td>\n",
       "      <td>2</td>\n",
       "      <td>Neutral</td>\n",
       "      <td>Agree</td>\n",
       "      <td>Agree</td>\n",
       "      <td>Neutral</td>\n",
       "      <td>Agree</td>\n",
       "      <td>Agree</td>\n",
       "    </tr>\n",
       "  </tbody>\n",
       "</table>\n",
       "<p>5 rows × 22 columns</p>\n",
       "</div>"
      ],
      "text/plain": [
       "   UID How do you get to know about it? What is your gener? How old are you?  \\\n",
       "0    0                     Social Media              Female            31-40   \n",
       "1    1                      Our website                Male            31-40   \n",
       "2    2                     Social Media                Male              >50   \n",
       "3    3                      Our website              Female            19-30   \n",
       "4    4                     Social Media                Male            19-30   \n",
       "\n",
       "  What is your district? What is your profession?  \\\n",
       "0                  Kandy           Private Sector   \n",
       "1               Kalutara            Public Sector   \n",
       "2                Colombo           Private Sector   \n",
       "3                Colombo           Private Sector   \n",
       "4                Colombo            Public Sector   \n",
       "\n",
       "  What is your monthly income? What is your highest education level?  \\\n",
       "0                     70k-100k                              Graduate   \n",
       "1                     70k-100k                              Graduate   \n",
       "2                      50k-70k                                   A/L   \n",
       "3                    100k-150k                              Graduate   \n",
       "4                      50k-70k                              Graduate   \n",
       "\n",
       "  What is your ethnic group? What is your marital status  ...  \\\n",
       "0                    Sinhala                     Married  ...   \n",
       "1                    Sinhala                     Married  ...   \n",
       "2                    Sinhala                     Married  ...   \n",
       "3                      Tamil                     Married  ...   \n",
       "4                    Sinhala                     Married  ...   \n",
       "\n",
       "   Going to the branch is more convenient  I prefer internet banking  \\\n",
       "0                                       3                          1   \n",
       "1                                       5                          2   \n",
       "2                                       1                          2   \n",
       "3                                       3                          1   \n",
       "4                                       3                          1   \n",
       "\n",
       "   I don't understand the app  App is slow  \\\n",
       "0                           4            3   \n",
       "1                           3            3   \n",
       "2                           4            2   \n",
       "3                           2            3   \n",
       "4                           4            2   \n",
       "\n",
       "   Mobile banking is for high end customers  \\\n",
       "0                                  Disagree   \n",
       "1                                   Neutral   \n",
       "2                                  Disagree   \n",
       "3                                  Disagree   \n",
       "4                                   Neutral   \n",
       "\n",
       "   What if the internet connection is gone when I'm doing a transaction  \\\n",
       "0                                              Agree                      \n",
       "1                                     Strongly Agree                      \n",
       "2                                              Agree                      \n",
       "3                                     Strongly Agree                      \n",
       "4                                              Agree                      \n",
       "\n",
       "  I’m not good with new technologies  \\\n",
       "0                              Agree   \n",
       "1                            Neutral   \n",
       "2                              Agree   \n",
       "3                              Agree   \n",
       "4                              Agree   \n",
       "\n",
       "  Bank will perform the transaction incorrectly  \\\n",
       "0                                       Neutral   \n",
       "1                                       Neutral   \n",
       "2                                Strongly Agree   \n",
       "3                                       Neutral   \n",
       "4                                       Neutral   \n",
       "\n",
       "  I’m not comfirtable sharing my account details via a mobile app  \\\n",
       "0                                     Strongly Agree                \n",
       "1                                            Neutral                \n",
       "2                                              Agree                \n",
       "3                                     Strongly Agree                \n",
       "4                                              Agree                \n",
       "\n",
       "  If my phone is stolen somebody can get my bank details  \n",
       "0                                              Agree      \n",
       "1                                     Strongly Agree      \n",
       "2                                            Neutral      \n",
       "3                                            Neutral      \n",
       "4                                              Agree      \n",
       "\n",
       "[5 rows x 22 columns]"
      ]
     },
     "execution_count": 20,
     "metadata": {},
     "output_type": "execute_result"
    }
   ],
   "source": [
    "df.head()"
   ]
  },
  {
   "cell_type": "code",
   "execution_count": null,
   "metadata": {},
   "outputs": [],
   "source": []
  },
  {
   "cell_type": "code",
   "execution_count": 32,
   "metadata": {},
   "outputs": [],
   "source": [
    "#B : How do you get to know about it?"
   ]
  },
  {
   "cell_type": "code",
   "execution_count": 21,
   "metadata": {},
   "outputs": [
    {
     "data": {
      "text/plain": [
       "Social Media    47\n",
       "Our website     28\n",
       "From Branch     23\n",
       "Other            8\n",
       "Friend           4\n",
       "Name: How do you get to know about it?, dtype: int64"
      ]
     },
     "execution_count": 21,
     "metadata": {},
     "output_type": "execute_result"
    }
   ],
   "source": [
    "df['How do you get to know about it?'].value_counts()"
   ]
  },
  {
   "cell_type": "code",
   "execution_count": 22,
   "metadata": {},
   "outputs": [],
   "source": [
    "df = pd.DataFrame(df['How do you get to know about it?'].value_counts())"
   ]
  },
  {
   "cell_type": "code",
   "execution_count": 23,
   "metadata": {},
   "outputs": [
    {
     "data": {
      "text/html": [
       "<div>\n",
       "<style scoped>\n",
       "    .dataframe tbody tr th:only-of-type {\n",
       "        vertical-align: middle;\n",
       "    }\n",
       "\n",
       "    .dataframe tbody tr th {\n",
       "        vertical-align: top;\n",
       "    }\n",
       "\n",
       "    .dataframe thead th {\n",
       "        text-align: right;\n",
       "    }\n",
       "</style>\n",
       "<table border=\"1\" class=\"dataframe\">\n",
       "  <thead>\n",
       "    <tr style=\"text-align: right;\">\n",
       "      <th></th>\n",
       "      <th>How do you get to know about it?</th>\n",
       "    </tr>\n",
       "  </thead>\n",
       "  <tbody>\n",
       "    <tr>\n",
       "      <th>Social Media</th>\n",
       "      <td>47</td>\n",
       "    </tr>\n",
       "    <tr>\n",
       "      <th>Our website</th>\n",
       "      <td>28</td>\n",
       "    </tr>\n",
       "    <tr>\n",
       "      <th>From Branch</th>\n",
       "      <td>23</td>\n",
       "    </tr>\n",
       "    <tr>\n",
       "      <th>Other</th>\n",
       "      <td>8</td>\n",
       "    </tr>\n",
       "    <tr>\n",
       "      <th>Friend</th>\n",
       "      <td>4</td>\n",
       "    </tr>\n",
       "  </tbody>\n",
       "</table>\n",
       "</div>"
      ],
      "text/plain": [
       "              How do you get to know about it?\n",
       "Social Media                                47\n",
       "Our website                                 28\n",
       "From Branch                                 23\n",
       "Other                                        8\n",
       "Friend                                       4"
      ]
     },
     "execution_count": 23,
     "metadata": {},
     "output_type": "execute_result"
    }
   ],
   "source": [
    "df.head()"
   ]
  },
  {
   "cell_type": "code",
   "execution_count": 27,
   "metadata": {},
   "outputs": [
    {
     "data": {
      "text/plain": [
       "(5, 0.2)"
      ]
     },
     "execution_count": 27,
     "metadata": {},
     "output_type": "execute_result"
    }
   ],
   "source": [
    "len(df),1/len(df)"
   ]
  },
  {
   "cell_type": "code",
   "execution_count": 7,
   "metadata": {},
   "outputs": [],
   "source": [
    "res = stat()"
   ]
  },
  {
   "cell_type": "code",
   "execution_count": 28,
   "metadata": {},
   "outputs": [],
   "source": [
    "res.chisq(df=df, p=(0.2, 0.2, 0.2, 0.2, 0.2))"
   ]
  },
  {
   "cell_type": "code",
   "execution_count": 29,
   "metadata": {},
   "outputs": [
    {
     "name": "stdout",
     "output_type": "stream",
     "text": [
      "\n",
      "Chi-squared goodness of fit test\n",
      "\n",
      "  Chi-Square    Df      P-value    Sample size\n",
      "------------  ----  -----------  -------------\n",
      "     53.7273     4  6.00218e-11            110\n",
      "\n"
     ]
    }
   ],
   "source": [
    "print(res.summary)"
   ]
  },
  {
   "cell_type": "code",
   "execution_count": 30,
   "metadata": {},
   "outputs": [
    {
     "name": "stdout",
     "output_type": "stream",
     "text": [
      "              How do you get to know about it?  expected_counts\n",
      "Social Media                                47             22.0\n",
      "Our website                                 28             22.0\n",
      "From Branch                                 23             22.0\n",
      "Other                                        8             22.0\n",
      "Friend                                       4             22.0\n"
     ]
    }
   ],
   "source": [
    "print(res.expected_df)"
   ]
  },
  {
   "cell_type": "code",
   "execution_count": 50,
   "metadata": {},
   "outputs": [
    {
     "data": {
      "text/html": [
       "<div>\n",
       "<style scoped>\n",
       "    .dataframe tbody tr th:only-of-type {\n",
       "        vertical-align: middle;\n",
       "    }\n",
       "\n",
       "    .dataframe tbody tr th {\n",
       "        vertical-align: top;\n",
       "    }\n",
       "\n",
       "    .dataframe thead th {\n",
       "        text-align: right;\n",
       "    }\n",
       "</style>\n",
       "<table border=\"1\" class=\"dataframe\">\n",
       "  <thead>\n",
       "    <tr style=\"text-align: right;\">\n",
       "      <th></th>\n",
       "      <th>What is your gener?</th>\n",
       "    </tr>\n",
       "  </thead>\n",
       "  <tbody>\n",
       "    <tr>\n",
       "      <th>Female</th>\n",
       "      <td>60</td>\n",
       "    </tr>\n",
       "    <tr>\n",
       "      <th>Male</th>\n",
       "      <td>50</td>\n",
       "    </tr>\n",
       "  </tbody>\n",
       "</table>\n",
       "</div>"
      ],
      "text/plain": [
       "        What is your gener?\n",
       "Female                   60\n",
       "Male                     50"
      ]
     },
     "execution_count": 50,
     "metadata": {},
     "output_type": "execute_result"
    }
   ],
   "source": [
    "#C : What is your gener?\n",
    "dff = pd.DataFrame(df['What is your gener?'].value_counts())\n",
    "dff.head()"
   ]
  },
  {
   "cell_type": "code",
   "execution_count": 51,
   "metadata": {},
   "outputs": [
    {
     "data": {
      "text/plain": [
       "(2, 0.5)"
      ]
     },
     "execution_count": 51,
     "metadata": {},
     "output_type": "execute_result"
    }
   ],
   "source": [
    "dff = pd.DataFrame(df['What is your gener?'].value_counts())\n",
    "len(dff),1/len(dff)"
   ]
  },
  {
   "cell_type": "code",
   "execution_count": 52,
   "metadata": {},
   "outputs": [
    {
     "name": "stdout",
     "output_type": "stream",
     "text": [
      "\n",
      "Chi-squared goodness of fit test\n",
      "\n",
      "  Chi-Square    Df    P-value    Sample size\n",
      "------------  ----  ---------  -------------\n",
      "    0.909091     1   0.340356            110\n",
      "\n"
     ]
    }
   ],
   "source": [
    "res = stat()\n",
    "res.chisq(df=dff, p=(0.5, 0.5))\n",
    "print(res.summary)"
   ]
  },
  {
   "cell_type": "code",
   "execution_count": 53,
   "metadata": {},
   "outputs": [
    {
     "data": {
      "text/html": [
       "<div>\n",
       "<style scoped>\n",
       "    .dataframe tbody tr th:only-of-type {\n",
       "        vertical-align: middle;\n",
       "    }\n",
       "\n",
       "    .dataframe tbody tr th {\n",
       "        vertical-align: top;\n",
       "    }\n",
       "\n",
       "    .dataframe thead th {\n",
       "        text-align: right;\n",
       "    }\n",
       "</style>\n",
       "<table border=\"1\" class=\"dataframe\">\n",
       "  <thead>\n",
       "    <tr style=\"text-align: right;\">\n",
       "      <th></th>\n",
       "      <th>How old are you?</th>\n",
       "    </tr>\n",
       "  </thead>\n",
       "  <tbody>\n",
       "    <tr>\n",
       "      <th>19-30</th>\n",
       "      <td>49</td>\n",
       "    </tr>\n",
       "    <tr>\n",
       "      <th>41-50</th>\n",
       "      <td>25</td>\n",
       "    </tr>\n",
       "    <tr>\n",
       "      <th>31-40</th>\n",
       "      <td>24</td>\n",
       "    </tr>\n",
       "    <tr>\n",
       "      <th>&gt;50</th>\n",
       "      <td>12</td>\n",
       "    </tr>\n",
       "  </tbody>\n",
       "</table>\n",
       "</div>"
      ],
      "text/plain": [
       "       How old are you?\n",
       "19-30                49\n",
       "41-50                25\n",
       "31-40                24\n",
       ">50                  12"
      ]
     },
     "execution_count": 53,
     "metadata": {},
     "output_type": "execute_result"
    }
   ],
   "source": [
    "#D : 'How old are you?'\n",
    "dff = pd.DataFrame(df['How old are you?'].value_counts())\n",
    "dff.head()"
   ]
  },
  {
   "cell_type": "code",
   "execution_count": 54,
   "metadata": {},
   "outputs": [
    {
     "data": {
      "text/plain": [
       "(4, 0.25)"
      ]
     },
     "execution_count": 54,
     "metadata": {},
     "output_type": "execute_result"
    }
   ],
   "source": [
    "dff = pd.DataFrame(df['How old are you?'].value_counts())\n",
    "len(dff),1/len(dff)"
   ]
  },
  {
   "cell_type": "code",
   "execution_count": 55,
   "metadata": {},
   "outputs": [
    {
     "name": "stdout",
     "output_type": "stream",
     "text": [
      "\n",
      "Chi-squared goodness of fit test\n",
      "\n",
      "  Chi-Square    Df      P-value    Sample size\n",
      "------------  ----  -----------  -------------\n",
      "     26.2182     3  8.58504e-06            110\n",
      "\n"
     ]
    }
   ],
   "source": [
    "res = stat()\n",
    "res.chisq(df=dff, p=(0.25, 0.25, 0.25, 0.25))\n",
    "print(res.summary)"
   ]
  },
  {
   "cell_type": "code",
   "execution_count": 56,
   "metadata": {},
   "outputs": [
    {
     "data": {
      "text/html": [
       "<div>\n",
       "<style scoped>\n",
       "    .dataframe tbody tr th:only-of-type {\n",
       "        vertical-align: middle;\n",
       "    }\n",
       "\n",
       "    .dataframe tbody tr th {\n",
       "        vertical-align: top;\n",
       "    }\n",
       "\n",
       "    .dataframe thead th {\n",
       "        text-align: right;\n",
       "    }\n",
       "</style>\n",
       "<table border=\"1\" class=\"dataframe\">\n",
       "  <thead>\n",
       "    <tr style=\"text-align: right;\">\n",
       "      <th></th>\n",
       "      <th>What is your district?</th>\n",
       "    </tr>\n",
       "  </thead>\n",
       "  <tbody>\n",
       "    <tr>\n",
       "      <th>Colombo</th>\n",
       "      <td>60</td>\n",
       "    </tr>\n",
       "    <tr>\n",
       "      <th>Gampaha</th>\n",
       "      <td>32</td>\n",
       "    </tr>\n",
       "    <tr>\n",
       "      <th>Kandy</th>\n",
       "      <td>9</td>\n",
       "    </tr>\n",
       "    <tr>\n",
       "      <th>Kalutara</th>\n",
       "      <td>9</td>\n",
       "    </tr>\n",
       "  </tbody>\n",
       "</table>\n",
       "</div>"
      ],
      "text/plain": [
       "          What is your district?\n",
       "Colombo                       60\n",
       "Gampaha                       32\n",
       "Kandy                          9\n",
       "Kalutara                       9"
      ]
     },
     "execution_count": 56,
     "metadata": {},
     "output_type": "execute_result"
    }
   ],
   "source": [
    "#E What is your district?\n",
    "dff = pd.DataFrame(df['What is your district?'].value_counts())\n",
    "dff.head()"
   ]
  },
  {
   "cell_type": "code",
   "execution_count": 57,
   "metadata": {},
   "outputs": [
    {
     "data": {
      "text/plain": [
       "(4, 0.25)"
      ]
     },
     "execution_count": 57,
     "metadata": {},
     "output_type": "execute_result"
    }
   ],
   "source": [
    "dff = pd.DataFrame(df['What is your district?'].value_counts())\n",
    "len(dff),1/len(dff)"
   ]
  },
  {
   "cell_type": "code",
   "execution_count": 58,
   "metadata": {},
   "outputs": [
    {
     "name": "stdout",
     "output_type": "stream",
     "text": [
      "\n",
      "Chi-squared goodness of fit test\n",
      "\n",
      "  Chi-Square    Df      P-value    Sample size\n",
      "------------  ----  -----------  -------------\n",
      "     64.0364     3  8.06239e-14            110\n",
      "\n"
     ]
    }
   ],
   "source": [
    "res = stat()\n",
    "res.chisq(df=dff, p=(0.25, 0.25, 0.25, 0.25))\n",
    "print(res.summary)"
   ]
  },
  {
   "cell_type": "code",
   "execution_count": 59,
   "metadata": {},
   "outputs": [
    {
     "data": {
      "text/html": [
       "<div>\n",
       "<style scoped>\n",
       "    .dataframe tbody tr th:only-of-type {\n",
       "        vertical-align: middle;\n",
       "    }\n",
       "\n",
       "    .dataframe tbody tr th {\n",
       "        vertical-align: top;\n",
       "    }\n",
       "\n",
       "    .dataframe thead th {\n",
       "        text-align: right;\n",
       "    }\n",
       "</style>\n",
       "<table border=\"1\" class=\"dataframe\">\n",
       "  <thead>\n",
       "    <tr style=\"text-align: right;\">\n",
       "      <th></th>\n",
       "      <th>What is your profession?</th>\n",
       "    </tr>\n",
       "  </thead>\n",
       "  <tbody>\n",
       "    <tr>\n",
       "      <th>Private Sector</th>\n",
       "      <td>64</td>\n",
       "    </tr>\n",
       "    <tr>\n",
       "      <th>Public Sector</th>\n",
       "      <td>31</td>\n",
       "    </tr>\n",
       "    <tr>\n",
       "      <th>Self-employed</th>\n",
       "      <td>15</td>\n",
       "    </tr>\n",
       "  </tbody>\n",
       "</table>\n",
       "</div>"
      ],
      "text/plain": [
       "                What is your profession?\n",
       "Private Sector                        64\n",
       "Public Sector                         31\n",
       "Self-employed                         15"
      ]
     },
     "execution_count": 59,
     "metadata": {},
     "output_type": "execute_result"
    }
   ],
   "source": [
    "#F What is your profession?\n",
    "dff = pd.DataFrame(df['What is your profession?'].value_counts())\n",
    "dff.head()"
   ]
  },
  {
   "cell_type": "code",
   "execution_count": 60,
   "metadata": {},
   "outputs": [
    {
     "data": {
      "text/plain": [
       "(3, 0.3333333333333333)"
      ]
     },
     "execution_count": 60,
     "metadata": {},
     "output_type": "execute_result"
    }
   ],
   "source": [
    "dff = pd.DataFrame(df['What is your profession?'].value_counts())\n",
    "len(dff),1/len(dff)"
   ]
  },
  {
   "cell_type": "code",
   "execution_count": 62,
   "metadata": {},
   "outputs": [
    {
     "name": "stdout",
     "output_type": "stream",
     "text": [
      "\n",
      "Chi-squared goodness of fit test\n",
      "\n",
      "  Chi-Square    Df      P-value    Sample size\n",
      "------------  ----  -----------  -------------\n",
      "     34.0545     2  4.02856e-08            110\n",
      "\n"
     ]
    }
   ],
   "source": [
    "res = stat()\n",
    "res.chisq(df=dff, p=(0.3333333333333333, 0.3333333333333333, 0.3333333333333333))\n",
    "print(res.summary)"
   ]
  },
  {
   "cell_type": "code",
   "execution_count": 63,
   "metadata": {},
   "outputs": [
    {
     "data": {
      "text/html": [
       "<div>\n",
       "<style scoped>\n",
       "    .dataframe tbody tr th:only-of-type {\n",
       "        vertical-align: middle;\n",
       "    }\n",
       "\n",
       "    .dataframe tbody tr th {\n",
       "        vertical-align: top;\n",
       "    }\n",
       "\n",
       "    .dataframe thead th {\n",
       "        text-align: right;\n",
       "    }\n",
       "</style>\n",
       "<table border=\"1\" class=\"dataframe\">\n",
       "  <thead>\n",
       "    <tr style=\"text-align: right;\">\n",
       "      <th></th>\n",
       "      <th>What is your monthly income?</th>\n",
       "    </tr>\n",
       "  </thead>\n",
       "  <tbody>\n",
       "    <tr>\n",
       "      <th>50k-70k</th>\n",
       "      <td>40</td>\n",
       "    </tr>\n",
       "    <tr>\n",
       "      <th>30k-50k</th>\n",
       "      <td>23</td>\n",
       "    </tr>\n",
       "    <tr>\n",
       "      <th>70k-100k</th>\n",
       "      <td>23</td>\n",
       "    </tr>\n",
       "    <tr>\n",
       "      <th>150k-200k</th>\n",
       "      <td>15</td>\n",
       "    </tr>\n",
       "    <tr>\n",
       "      <th>100k-150k</th>\n",
       "      <td>9</td>\n",
       "    </tr>\n",
       "  </tbody>\n",
       "</table>\n",
       "</div>"
      ],
      "text/plain": [
       "           What is your monthly income?\n",
       "50k-70k                              40\n",
       "30k-50k                              23\n",
       "70k-100k                             23\n",
       "150k-200k                            15\n",
       "100k-150k                             9"
      ]
     },
     "execution_count": 63,
     "metadata": {},
     "output_type": "execute_result"
    }
   ],
   "source": [
    "#G What is your What is your monthly income??\n",
    "dff = pd.DataFrame(df['What is your monthly income?'].value_counts())\n",
    "dff.head()"
   ]
  },
  {
   "cell_type": "code",
   "execution_count": 64,
   "metadata": {},
   "outputs": [
    {
     "data": {
      "text/plain": [
       "(5, 0.2)"
      ]
     },
     "execution_count": 64,
     "metadata": {},
     "output_type": "execute_result"
    }
   ],
   "source": [
    "dff = pd.DataFrame(df['What is your monthly income?'].value_counts())\n",
    "len(dff),1/len(dff)"
   ]
  },
  {
   "cell_type": "code",
   "execution_count": 65,
   "metadata": {},
   "outputs": [
    {
     "name": "stdout",
     "output_type": "stream",
     "text": [
      "\n",
      "Chi-squared goodness of fit test\n",
      "\n",
      "  Chi-Square    Df      P-value    Sample size\n",
      "------------  ----  -----------  -------------\n",
      "     24.7273     4  5.70776e-05            110\n",
      "\n"
     ]
    }
   ],
   "source": [
    "res = stat()\n",
    "res.chisq(df=dff, p=(0.2, 0.2, 0.2, 0.2, 0.2))\n",
    "print(res.summary)"
   ]
  },
  {
   "cell_type": "code",
   "execution_count": 66,
   "metadata": {},
   "outputs": [
    {
     "data": {
      "text/html": [
       "<div>\n",
       "<style scoped>\n",
       "    .dataframe tbody tr th:only-of-type {\n",
       "        vertical-align: middle;\n",
       "    }\n",
       "\n",
       "    .dataframe tbody tr th {\n",
       "        vertical-align: top;\n",
       "    }\n",
       "\n",
       "    .dataframe thead th {\n",
       "        text-align: right;\n",
       "    }\n",
       "</style>\n",
       "<table border=\"1\" class=\"dataframe\">\n",
       "  <thead>\n",
       "    <tr style=\"text-align: right;\">\n",
       "      <th></th>\n",
       "      <th>What is your highest education level?</th>\n",
       "    </tr>\n",
       "  </thead>\n",
       "  <tbody>\n",
       "    <tr>\n",
       "      <th>Graduate</th>\n",
       "      <td>89</td>\n",
       "    </tr>\n",
       "    <tr>\n",
       "      <th>A/L</th>\n",
       "      <td>12</td>\n",
       "    </tr>\n",
       "    <tr>\n",
       "      <th>Post Graduate</th>\n",
       "      <td>9</td>\n",
       "    </tr>\n",
       "  </tbody>\n",
       "</table>\n",
       "</div>"
      ],
      "text/plain": [
       "               What is your highest education level?\n",
       "Graduate                                          89\n",
       "A/L                                               12\n",
       "Post Graduate                                      9"
      ]
     },
     "execution_count": 66,
     "metadata": {},
     "output_type": "execute_result"
    }
   ],
   "source": [
    "# H What is your highest education level?\n",
    "dff = pd.DataFrame(df['What is your highest education level?'].value_counts())\n",
    "dff.head()"
   ]
  },
  {
   "cell_type": "code",
   "execution_count": 67,
   "metadata": {},
   "outputs": [
    {
     "data": {
      "text/plain": [
       "(3, 0.3333333333333333)"
      ]
     },
     "execution_count": 67,
     "metadata": {},
     "output_type": "execute_result"
    }
   ],
   "source": [
    "dff = pd.DataFrame(df['What is your highest education level?'].value_counts())\n",
    "len(dff),1/len(dff)"
   ]
  },
  {
   "cell_type": "code",
   "execution_count": 68,
   "metadata": {},
   "outputs": [
    {
     "name": "stdout",
     "output_type": "stream",
     "text": [
      "\n",
      "Chi-squared goodness of fit test\n",
      "\n",
      "  Chi-Square    Df     P-value    Sample size\n",
      "------------  ----  ----------  -------------\n",
      "     112.164     2  4.4053e-25            110\n",
      "\n"
     ]
    }
   ],
   "source": [
    "res = stat()\n",
    "res.chisq(df=dff, p=(0.3333333333333333, 0.3333333333333333, 0.3333333333333333))\n",
    "print(res.summary)"
   ]
  },
  {
   "cell_type": "code",
   "execution_count": 69,
   "metadata": {},
   "outputs": [
    {
     "data": {
      "text/html": [
       "<div>\n",
       "<style scoped>\n",
       "    .dataframe tbody tr th:only-of-type {\n",
       "        vertical-align: middle;\n",
       "    }\n",
       "\n",
       "    .dataframe tbody tr th {\n",
       "        vertical-align: top;\n",
       "    }\n",
       "\n",
       "    .dataframe thead th {\n",
       "        text-align: right;\n",
       "    }\n",
       "</style>\n",
       "<table border=\"1\" class=\"dataframe\">\n",
       "  <thead>\n",
       "    <tr style=\"text-align: right;\">\n",
       "      <th></th>\n",
       "      <th>What is your ethnic group?</th>\n",
       "    </tr>\n",
       "  </thead>\n",
       "  <tbody>\n",
       "    <tr>\n",
       "      <th>Sinhala</th>\n",
       "      <td>101</td>\n",
       "    </tr>\n",
       "    <tr>\n",
       "      <th>Tamil</th>\n",
       "      <td>9</td>\n",
       "    </tr>\n",
       "  </tbody>\n",
       "</table>\n",
       "</div>"
      ],
      "text/plain": [
       "         What is your ethnic group?\n",
       "Sinhala                         101\n",
       "Tamil                             9"
      ]
     },
     "execution_count": 69,
     "metadata": {},
     "output_type": "execute_result"
    }
   ],
   "source": [
    "# I What is your ethnic group?\n",
    "dff = pd.DataFrame(df['What is your ethnic group?'].value_counts())\n",
    "dff.head()"
   ]
  },
  {
   "cell_type": "code",
   "execution_count": 70,
   "metadata": {},
   "outputs": [
    {
     "data": {
      "text/plain": [
       "(2, 0.5)"
      ]
     },
     "execution_count": 70,
     "metadata": {},
     "output_type": "execute_result"
    }
   ],
   "source": [
    "dff = pd.DataFrame(df['What is your ethnic group?'].value_counts())\n",
    "len(dff),1/len(dff)"
   ]
  },
  {
   "cell_type": "code",
   "execution_count": 71,
   "metadata": {},
   "outputs": [
    {
     "name": "stdout",
     "output_type": "stream",
     "text": [
      "\n",
      "Chi-squared goodness of fit test\n",
      "\n",
      "  Chi-Square    Df      P-value    Sample size\n",
      "------------  ----  -----------  -------------\n",
      "     76.9455     1  1.75745e-18            110\n",
      "\n"
     ]
    }
   ],
   "source": [
    "res = stat()\n",
    "res.chisq(df=dff, p=(0.5, 0.5))\n",
    "print(res.summary)"
   ]
  },
  {
   "cell_type": "code",
   "execution_count": 72,
   "metadata": {},
   "outputs": [
    {
     "data": {
      "text/html": [
       "<div>\n",
       "<style scoped>\n",
       "    .dataframe tbody tr th:only-of-type {\n",
       "        vertical-align: middle;\n",
       "    }\n",
       "\n",
       "    .dataframe tbody tr th {\n",
       "        vertical-align: top;\n",
       "    }\n",
       "\n",
       "    .dataframe thead th {\n",
       "        text-align: right;\n",
       "    }\n",
       "</style>\n",
       "<table border=\"1\" class=\"dataframe\">\n",
       "  <thead>\n",
       "    <tr style=\"text-align: right;\">\n",
       "      <th></th>\n",
       "      <th>What is your marital status</th>\n",
       "    </tr>\n",
       "  </thead>\n",
       "  <tbody>\n",
       "    <tr>\n",
       "      <th>Married</th>\n",
       "      <td>79</td>\n",
       "    </tr>\n",
       "    <tr>\n",
       "      <th>Unmarried</th>\n",
       "      <td>31</td>\n",
       "    </tr>\n",
       "  </tbody>\n",
       "</table>\n",
       "</div>"
      ],
      "text/plain": [
       "           What is your marital status\n",
       "Married                             79\n",
       "Unmarried                           31"
      ]
     },
     "execution_count": 72,
     "metadata": {},
     "output_type": "execute_result"
    }
   ],
   "source": [
    "# J What is your marital status\n",
    "dff = pd.DataFrame(df['What is your marital status'].value_counts())\n",
    "dff.head()"
   ]
  },
  {
   "cell_type": "code",
   "execution_count": 73,
   "metadata": {},
   "outputs": [
    {
     "data": {
      "text/plain": [
       "(2, 0.5)"
      ]
     },
     "execution_count": 73,
     "metadata": {},
     "output_type": "execute_result"
    }
   ],
   "source": [
    "dff = pd.DataFrame(df['What is your marital status'].value_counts())\n",
    "len(dff),1/len(dff)"
   ]
  },
  {
   "cell_type": "code",
   "execution_count": 74,
   "metadata": {},
   "outputs": [
    {
     "name": "stdout",
     "output_type": "stream",
     "text": [
      "\n",
      "Chi-squared goodness of fit test\n",
      "\n",
      "  Chi-Square    Df      P-value    Sample size\n",
      "------------  ----  -----------  -------------\n",
      "     20.9455     1  4.72548e-06            110\n",
      "\n"
     ]
    }
   ],
   "source": [
    "res = stat()\n",
    "res.chisq(df=dff, p=(0.5, 0.5))\n",
    "print(res.summary)"
   ]
  },
  {
   "cell_type": "code",
   "execution_count": 75,
   "metadata": {},
   "outputs": [],
   "source": [
    "# Testing about the Product"
   ]
  },
  {
   "cell_type": "code",
   "execution_count": 78,
   "metadata": {},
   "outputs": [
    {
     "data": {
      "text/plain": [
       "'\\nChi-squared goodness of fit test\\n\\n  Chi-Square    Df      P-value    Sample size\\n------------  ----  -----------  -------------\\n     20.9455     1  4.72548e-06            110\\n'"
      ]
     },
     "execution_count": 78,
     "metadata": {},
     "output_type": "execute_result"
    }
   ],
   "source": [
    "res.summary"
   ]
  },
  {
   "cell_type": "code",
   "execution_count": 80,
   "metadata": {},
   "outputs": [],
   "source": [
    "df2 = df[['My phone does not support it',\n",
    "       \"I don't feel safe to do transactions\",\n",
    "       'Going to the branch is more convenient',\n",
    "       'I prefer internet banking', \"I don't understand the app\",\n",
    "       'App is slow']]"
   ]
  },
  {
   "cell_type": "code",
   "execution_count": 81,
   "metadata": {},
   "outputs": [
    {
     "data": {
      "text/html": [
       "<div>\n",
       "<style scoped>\n",
       "    .dataframe tbody tr th:only-of-type {\n",
       "        vertical-align: middle;\n",
       "    }\n",
       "\n",
       "    .dataframe tbody tr th {\n",
       "        vertical-align: top;\n",
       "    }\n",
       "\n",
       "    .dataframe thead th {\n",
       "        text-align: right;\n",
       "    }\n",
       "</style>\n",
       "<table border=\"1\" class=\"dataframe\">\n",
       "  <thead>\n",
       "    <tr style=\"text-align: right;\">\n",
       "      <th></th>\n",
       "      <th>My phone does not support it</th>\n",
       "      <th>I don't feel safe to do transactions</th>\n",
       "      <th>Going to the branch is more convenient</th>\n",
       "      <th>I prefer internet banking</th>\n",
       "      <th>I don't understand the app</th>\n",
       "      <th>App is slow</th>\n",
       "    </tr>\n",
       "  </thead>\n",
       "  <tbody>\n",
       "    <tr>\n",
       "      <th>0</th>\n",
       "      <td>2</td>\n",
       "      <td>4</td>\n",
       "      <td>3</td>\n",
       "      <td>1</td>\n",
       "      <td>4</td>\n",
       "      <td>3</td>\n",
       "    </tr>\n",
       "    <tr>\n",
       "      <th>1</th>\n",
       "      <td>2</td>\n",
       "      <td>4</td>\n",
       "      <td>5</td>\n",
       "      <td>2</td>\n",
       "      <td>3</td>\n",
       "      <td>3</td>\n",
       "    </tr>\n",
       "    <tr>\n",
       "      <th>2</th>\n",
       "      <td>1</td>\n",
       "      <td>4</td>\n",
       "      <td>1</td>\n",
       "      <td>2</td>\n",
       "      <td>4</td>\n",
       "      <td>2</td>\n",
       "    </tr>\n",
       "    <tr>\n",
       "      <th>3</th>\n",
       "      <td>1</td>\n",
       "      <td>5</td>\n",
       "      <td>3</td>\n",
       "      <td>1</td>\n",
       "      <td>2</td>\n",
       "      <td>3</td>\n",
       "    </tr>\n",
       "    <tr>\n",
       "      <th>4</th>\n",
       "      <td>3</td>\n",
       "      <td>5</td>\n",
       "      <td>3</td>\n",
       "      <td>1</td>\n",
       "      <td>4</td>\n",
       "      <td>2</td>\n",
       "    </tr>\n",
       "  </tbody>\n",
       "</table>\n",
       "</div>"
      ],
      "text/plain": [
       "   My phone does not support it  I don't feel safe to do transactions  \\\n",
       "0                             2                                     4   \n",
       "1                             2                                     4   \n",
       "2                             1                                     4   \n",
       "3                             1                                     5   \n",
       "4                             3                                     5   \n",
       "\n",
       "   Going to the branch is more convenient  I prefer internet banking  \\\n",
       "0                                       3                          1   \n",
       "1                                       5                          2   \n",
       "2                                       1                          2   \n",
       "3                                       3                          1   \n",
       "4                                       3                          1   \n",
       "\n",
       "   I don't understand the app  App is slow  \n",
       "0                           4            3  \n",
       "1                           3            3  \n",
       "2                           4            2  \n",
       "3                           2            3  \n",
       "4                           4            2  "
      ]
     },
     "execution_count": 81,
     "metadata": {},
     "output_type": "execute_result"
    }
   ],
   "source": [
    "df2.head()"
   ]
  },
  {
   "cell_type": "code",
   "execution_count": 84,
   "metadata": {},
   "outputs": [
    {
     "data": {
      "text/plain": [
       "293"
      ]
     },
     "execution_count": 84,
     "metadata": {},
     "output_type": "execute_result"
    }
   ],
   "source": [
    "df2.iloc[:,0].sum()"
   ]
  },
  {
   "cell_type": "code",
   "execution_count": 85,
   "metadata": {},
   "outputs": [],
   "source": [
    "df2dic = {\n",
    "    'Attribute': df2.columns.values,\n",
    "    'Values': [df2.iloc[:,0].sum(), df2.iloc[:,1].sum(), df2.iloc[:,2].sum(),df2.iloc[:,3].sum(),df2.iloc[:,4].sum(),df2.iloc[:,5].sum()] \n",
    "}"
   ]
  },
  {
   "cell_type": "code",
   "execution_count": 87,
   "metadata": {},
   "outputs": [
    {
     "data": {
      "text/plain": [
       "{'Attribute': array(['My phone does not support it',\n",
       "        \"I don't feel safe to do transactions\",\n",
       "        'Going to the branch is more convenient',\n",
       "        'I prefer internet banking', \"I don't understand the app\",\n",
       "        'App is slow'], dtype=object),\n",
       " 'Values': [293, 382, 320, 150, 397, 296]}"
      ]
     },
     "execution_count": 87,
     "metadata": {},
     "output_type": "execute_result"
    }
   ],
   "source": [
    "df2dic"
   ]
  },
  {
   "cell_type": "code",
   "execution_count": 88,
   "metadata": {},
   "outputs": [],
   "source": [
    "df3 = pd.DataFrame(df2dic)"
   ]
  },
  {
   "cell_type": "code",
   "execution_count": 92,
   "metadata": {},
   "outputs": [],
   "source": [
    "df3.head()\n",
    "df3.set_index('Attribute',inplace=True)"
   ]
  },
  {
   "cell_type": "code",
   "execution_count": 93,
   "metadata": {},
   "outputs": [
    {
     "data": {
      "text/html": [
       "<div>\n",
       "<style scoped>\n",
       "    .dataframe tbody tr th:only-of-type {\n",
       "        vertical-align: middle;\n",
       "    }\n",
       "\n",
       "    .dataframe tbody tr th {\n",
       "        vertical-align: top;\n",
       "    }\n",
       "\n",
       "    .dataframe thead th {\n",
       "        text-align: right;\n",
       "    }\n",
       "</style>\n",
       "<table border=\"1\" class=\"dataframe\">\n",
       "  <thead>\n",
       "    <tr style=\"text-align: right;\">\n",
       "      <th></th>\n",
       "      <th>Values</th>\n",
       "    </tr>\n",
       "    <tr>\n",
       "      <th>Attribute</th>\n",
       "      <th></th>\n",
       "    </tr>\n",
       "  </thead>\n",
       "  <tbody>\n",
       "    <tr>\n",
       "      <th>My phone does not support it</th>\n",
       "      <td>293</td>\n",
       "    </tr>\n",
       "    <tr>\n",
       "      <th>I don't feel safe to do transactions</th>\n",
       "      <td>382</td>\n",
       "    </tr>\n",
       "    <tr>\n",
       "      <th>Going to the branch is more convenient</th>\n",
       "      <td>320</td>\n",
       "    </tr>\n",
       "    <tr>\n",
       "      <th>I prefer internet banking</th>\n",
       "      <td>150</td>\n",
       "    </tr>\n",
       "    <tr>\n",
       "      <th>I don't understand the app</th>\n",
       "      <td>397</td>\n",
       "    </tr>\n",
       "    <tr>\n",
       "      <th>App is slow</th>\n",
       "      <td>296</td>\n",
       "    </tr>\n",
       "  </tbody>\n",
       "</table>\n",
       "</div>"
      ],
      "text/plain": [
       "                                        Values\n",
       "Attribute                                     \n",
       "My phone does not support it               293\n",
       "I don't feel safe to do transactions       382\n",
       "Going to the branch is more convenient     320\n",
       "I prefer internet banking                  150\n",
       "I don't understand the app                 397\n",
       "App is slow                                296"
      ]
     },
     "execution_count": 93,
     "metadata": {},
     "output_type": "execute_result"
    }
   ],
   "source": [
    "df3"
   ]
  },
  {
   "cell_type": "code",
   "execution_count": 95,
   "metadata": {},
   "outputs": [
    {
     "data": {
      "text/plain": [
       "(6, 0.16666666666666666)"
      ]
     },
     "execution_count": 95,
     "metadata": {},
     "output_type": "execute_result"
    }
   ],
   "source": [
    "len(df3),1/len(df3)"
   ]
  },
  {
   "cell_type": "code",
   "execution_count": 97,
   "metadata": {},
   "outputs": [
    {
     "name": "stdout",
     "output_type": "stream",
     "text": [
      "\n",
      "Chi-squared goodness of fit test\n",
      "\n",
      "  Chi-Square    Df      P-value    Sample size\n",
      "------------  ----  -----------  -------------\n",
      "     126.847     5  1.11067e-25           1838\n",
      "\n"
     ]
    }
   ],
   "source": [
    "res = stat()\n",
    "res.chisq(df=df3, p=(0.16666666666666666, 0.16666666666666666, 0.16666666666666666, 0.16666666666666666, 0.16666666666666666, 0.16666666666666666))\n",
    "print(res.summary)"
   ]
  },
  {
   "cell_type": "code",
   "execution_count": 98,
   "metadata": {},
   "outputs": [],
   "source": [
    "# What do you think about mobile banking"
   ]
  },
  {
   "cell_type": "code",
   "execution_count": 99,
   "metadata": {},
   "outputs": [],
   "source": [
    "dfa = df[['Mobile banking is for high end customers']]"
   ]
  },
  {
   "cell_type": "code",
   "execution_count": 105,
   "metadata": {},
   "outputs": [],
   "source": [
    "dfa = pd.DataFrame(dfa.iloc[:,0].value_counts())"
   ]
  },
  {
   "cell_type": "code",
   "execution_count": 107,
   "metadata": {},
   "outputs": [
    {
     "data": {
      "text/plain": [
       "(3, 0.3333333333333333)"
      ]
     },
     "execution_count": 107,
     "metadata": {},
     "output_type": "execute_result"
    }
   ],
   "source": [
    "len(dfa),1/len(dfa)"
   ]
  },
  {
   "cell_type": "code",
   "execution_count": 110,
   "metadata": {},
   "outputs": [
    {
     "name": "stdout",
     "output_type": "stream",
     "text": [
      "\n",
      "Chi-squared goodness of fit test\n",
      "\n",
      "  Chi-Square    Df      P-value    Sample size\n",
      "------------  ----  -----------  -------------\n",
      "     76.8727     2  2.02908e-17            110\n",
      "\n"
     ]
    }
   ],
   "source": [
    "res = stat()\n",
    "res.chisq(df=dfa, p=(0.3333333333333333, 0.3333333333333333, 0.3333333333333333))\n",
    "print(res.summary)"
   ]
  },
  {
   "cell_type": "code",
   "execution_count": 123,
   "metadata": {},
   "outputs": [
    {
     "name": "stdout",
     "output_type": "stream",
     "text": [
      "\n",
      "Chi-squared goodness of fit test\n",
      "\n",
      "  Chi-Square    Df      P-value    Sample size\n",
      "------------  ----  -----------  -------------\n",
      "     76.8727     2  2.02908e-17            110\n",
      "\n"
     ]
    }
   ],
   "source": [
    "dfa = pd.DataFrame(df.iloc[:,16].value_counts())\n",
    "res = stat()\n",
    "res.chisq(df=dfa, p=(0.3333333333333333, 0.3333333333333333, 0.3333333333333333))\n",
    "print(res.summary)"
   ]
  },
  {
   "cell_type": "code",
   "execution_count": 124,
   "metadata": {},
   "outputs": [
    {
     "name": "stdout",
     "output_type": "stream",
     "text": [
      "\n",
      "Chi-squared goodness of fit test\n",
      "\n",
      "  Chi-Square    Df    P-value    Sample size\n",
      "------------  ----  ---------  -------------\n",
      "           0     1          1            110\n",
      "\n"
     ]
    }
   ],
   "source": [
    "dfa = pd.DataFrame(df.iloc[:,17].value_counts())\n",
    "res = stat()\n",
    "res.chisq(df=dfa, p=(0.5, 0.5))\n",
    "print(res.summary)"
   ]
  },
  {
   "cell_type": "code",
   "execution_count": 125,
   "metadata": {},
   "outputs": [
    {
     "name": "stdout",
     "output_type": "stream",
     "text": [
      "\n",
      "Chi-squared goodness of fit test\n",
      "\n",
      "  Chi-Square    Df      P-value    Sample size\n",
      "------------  ----  -----------  -------------\n",
      "     39.3455     2  2.85919e-09            110\n",
      "\n"
     ]
    }
   ],
   "source": [
    "dfa = pd.DataFrame(df.iloc[:,18].value_counts())\n",
    "res = stat()\n",
    "res.chisq(df=dfa, p=(0.3333333333333333, 0.3333333333333333, 0.3333333333333333))\n",
    "print(res.summary)"
   ]
  },
  {
   "cell_type": "code",
   "execution_count": 126,
   "metadata": {},
   "outputs": [
    {
     "name": "stdout",
     "output_type": "stream",
     "text": [
      "\n",
      "Chi-squared goodness of fit test\n",
      "\n",
      "  Chi-Square    Df      P-value    Sample size\n",
      "------------  ----  -----------  -------------\n",
      "     116.855     2  4.22044e-26            110\n",
      "\n"
     ]
    }
   ],
   "source": [
    "dfa = pd.DataFrame(df.iloc[:,19].value_counts())\n",
    "res = stat()\n",
    "res.chisq(df=dfa, p=(0.3333333333333333, 0.3333333333333333, 0.3333333333333333))\n",
    "print(res.summary)"
   ]
  },
  {
   "cell_type": "code",
   "execution_count": 127,
   "metadata": {},
   "outputs": [
    {
     "name": "stdout",
     "output_type": "stream",
     "text": [
      "\n",
      "Chi-squared goodness of fit test\n",
      "\n",
      "  Chi-Square    Df      P-value    Sample size\n",
      "------------  ----  -----------  -------------\n",
      "     91.8727     2  1.12225e-20            110\n",
      "\n"
     ]
    }
   ],
   "source": [
    "dfa = pd.DataFrame(df.iloc[:,20].value_counts())\n",
    "res = stat()\n",
    "res.chisq(df=dfa, p=(0.3333333333333333, 0.3333333333333333, 0.3333333333333333))\n",
    "print(res.summary)"
   ]
  },
  {
   "cell_type": "code",
   "execution_count": 128,
   "metadata": {},
   "outputs": [
    {
     "name": "stdout",
     "output_type": "stream",
     "text": [
      "\n",
      "Chi-squared goodness of fit test\n",
      "\n",
      "  Chi-Square    Df      P-value    Sample size\n",
      "------------  ----  -----------  -------------\n",
      "     60.0182     2  9.27294e-14            110\n",
      "\n"
     ]
    }
   ],
   "source": [
    "dfa = pd.DataFrame(df.iloc[:,21].value_counts())\n",
    "res = stat()\n",
    "res.chisq(df=dfa, p=(0.3333333333333333, 0.3333333333333333, 0.3333333333333333))\n",
    "print(res.summary)"
   ]
  },
  {
   "cell_type": "code",
   "execution_count": null,
   "metadata": {},
   "outputs": [],
   "source": []
  }
 ],
 "metadata": {
  "kernelspec": {
   "display_name": "Python 3",
   "language": "python",
   "name": "python3"
  },
  "language_info": {
   "codemirror_mode": {
    "name": "ipython",
    "version": 3
   },
   "file_extension": ".py",
   "mimetype": "text/x-python",
   "name": "python",
   "nbconvert_exporter": "python",
   "pygments_lexer": "ipython3",
   "version": "3.7.3"
  }
 },
 "nbformat": 4,
 "nbformat_minor": 4
}
